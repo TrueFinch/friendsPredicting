{
 "cells": [
  {
   "cell_type": "code",
   "execution_count": 180,
   "metadata": {
    "collapsed": true
   },
   "outputs": [],
   "source": [
    "import pandas as pd\n",
    "import numpy as np\n",
    "import sklearn as skl"
   ]
  },
  {
   "cell_type": "code",
   "execution_count": 181,
   "outputs": [],
   "source": [
    "train_raw = pd.read_csv(\"data/train_data.csv\")\n",
    "train_raw.columns = [\"id\", \"other\", \"friend\", \"label\"]\n",
    "val_raw = pd.read_csv(\"data/val_data.csv\")\n",
    "val_raw.columns = [\"id\", \"other\", \"friend\", \"label\"]"
   ],
   "metadata": {
    "collapsed": false,
    "pycharm": {
     "name": "#%%\n"
    }
   }
  },
  {
   "cell_type": "code",
   "execution_count": 182,
   "outputs": [
    {
     "name": "stdout",
     "output_type": "stream",
     "text": [
      "id        0\n",
      "other     1\n",
      "friend    0\n",
      "label     0\n",
      "dtype: int64\n"
     ]
    },
    {
     "data": {
      "text/plain": "id        0\nother     0\nfriend    0\nlabel     0\ndtype: int64"
     },
     "execution_count": 182,
     "metadata": {},
     "output_type": "execute_result"
    }
   ],
   "source": [
    "print(train_raw.isnull().sum())\n",
    "train_raw = train_raw.dropna()\n",
    "train_raw.dropna().isnull().sum()"
   ],
   "metadata": {
    "collapsed": false,
    "pycharm": {
     "name": "#%%\n"
    }
   }
  },
  {
   "cell_type": "code",
   "execution_count": 183,
   "outputs": [
    {
     "data": {
      "text/plain": "id        0\nother     0\nfriend    0\nlabel     0\ndtype: int64"
     },
     "execution_count": 183,
     "metadata": {},
     "output_type": "execute_result"
    }
   ],
   "source": [
    "val_raw.isnull().sum()"
   ],
   "metadata": {
    "collapsed": false,
    "pycharm": {
     "name": "#%%\n"
    }
   }
  },
  {
   "cell_type": "code",
   "execution_count": 184,
   "outputs": [
    {
     "data": {
      "text/plain": "РОСС       4413\nРЕЙЧЕЛ     4401\nЧЕНДЛЕР    4263\nДЖОУИ      4156\nМОНИКА     4011\nФИБИ       3748\nName: label, dtype: int64"
     },
     "execution_count": 184,
     "metadata": {},
     "output_type": "execute_result"
    }
   ],
   "source": [
    "train_raw_counts = train_raw.label.value_counts()\n",
    "train_raw_counts"
   ],
   "metadata": {
    "collapsed": false,
    "pycharm": {
     "name": "#%%\n"
    }
   }
  },
  {
   "cell_type": "code",
   "execution_count": 185,
   "outputs": [
    {
     "data": {
      "text/plain": "РОСС       491\nРЕЙЧЕЛ     489\nЧЕНДЛЕР    474\nДЖОУИ      462\nМОНИКА     446\nФИБИ       416\nName: label, dtype: int64"
     },
     "execution_count": 185,
     "metadata": {},
     "output_type": "execute_result"
    }
   ],
   "source": [
    "val_row_counts = val_raw.label.value_counts()\n",
    "val_row_counts"
   ],
   "metadata": {
    "collapsed": false,
    "pycharm": {
     "name": "#%%\n"
    }
   }
  },
  {
   "cell_type": "code",
   "execution_count": 186,
   "outputs": [
    {
     "name": "stdout",
     "output_type": "stream",
     "text": [
      "РОСС\t8.99\n",
      "РЕЙЧЕЛ\t9.00\n",
      "ЧЕНДЛЕР\t8.99\n",
      "ДЖОУИ\t9.00\n",
      "МОНИКА\t8.99\n",
      "ФИБИ\t9.01\n"
     ]
    }
   ],
   "source": [
    "for tr, vl in zip(train_raw_counts.items(), val_row_counts.items()):\n",
    "    name, val_tr = tr\n",
    "    name, val_vl = vl\n",
    "    print(\"\\t\".join([name, \"{:.2f}\".format(val_tr / val_vl)]))\n",
    "\n"
   ],
   "metadata": {
    "collapsed": false,
    "pycharm": {
     "name": "#%%\n"
    }
   }
  },
  {
   "cell_type": "code",
   "execution_count": 187,
   "outputs": [],
   "source": [
    "from sklearn.pipeline import Pipeline\n",
    "from sklearn.feature_extraction.text import TfidfVectorizer\n",
    "from sklearn.linear_model import SGDClassifier\n",
    "from sklearn.neighbors import KNeighborsClassifier\n",
    "from sklearn import metrics\n",
    "from sklearn.model_selection import GridSearchCV\n",
    "from sklearn.model_selection import train_test_split\n",
    "from sklearn.preprocessing import LabelEncoder\n",
    "import nltk\n",
    "import re\n",
    "from nltk.tokenize import RegexpTokenizer\n",
    "from nltk.stem.snowball import SnowballStemmer\n",
    "from nltk.corpus import stopwords"
   ],
   "metadata": {
    "collapsed": false,
    "pycharm": {
     "name": "#%%\n"
    }
   }
  },
  {
   "cell_type": "code",
   "execution_count": 188,
   "outputs": [],
   "source": [
    "# united_raw = train_raw.append(val_raw)\n",
    "united_raw = train_raw\n",
    "\n",
    "# united_raw.friend = united_raw.friend.str.replace(\"[^\\w\\s]\", \"\", regex=True).str.lower()\n",
    "# val_raw.friend = val_raw.friend.str.replace(\"[^\\w\\s]\", \"\", regex=True).str.lower()\n",
    "# le = LabelEncoder() #толку нет\n",
    "# united_raw.label = le.fit(united_raw.label).transform(united_raw.label)\n",
    "# val_raw.label = le.fit(val_raw.label).transform(val_raw.label)\n",
    "# united_raw[\"concat\"] = united_raw.other + ' ' + united_raw.friend"
   ],
   "metadata": {
    "collapsed": false,
    "pycharm": {
     "name": "#%%\n"
    }
   }
  },
  {
   "cell_type": "code",
   "execution_count": 192,
   "outputs": [],
   "source": [
    "#Preprocess\n",
    "import spacy\n",
    "sp = spacy.load('ru_core_news_sm')\n",
    "\n",
    "def preprocess(sentence):\n",
    "    sentence=str(sentence)\n",
    "    sentence = sentence.lower()\n",
    "    sentence=sentence.replace('{html}',\"\")\n",
    "    cleanr = re.compile('<.*?>')\n",
    "    cleantext = re.sub(cleanr, '', sentence)\n",
    "    rem_url=re.sub(r'http\\S+', '',cleantext)\n",
    "    rem_num = re.sub('[0-9]+', '', rem_url)\n",
    "    tokenizer = RegexpTokenizer(r'\\w+')\n",
    "    tokens = tokenizer.tokenize(rem_num)\n",
    "    # filtered_words = [w for w in tokens if len(w) > 2 if not w in stopwords.words('russian')]\n",
    "    # stem_words=[stemmer.stem(w) for w in filtered_words]\n",
    "    lemma_words=[w.lemma_ for w in sp(\" \".join(tokens))]\n",
    "    return \" \".join(lemma_words)\n",
    "\n",
    "united_raw[\"clean_friend\"] = united_raw.friend.map(lambda s: preprocess(s))\n",
    "val_raw[\"clean_friend\"] = val_raw.friend.map(lambda s: preprocess(s))"
   ],
   "metadata": {
    "collapsed": false,
    "pycharm": {
     "name": "#%%\n"
    }
   }
  },
  {
   "cell_type": "code",
   "execution_count": 197,
   "outputs": [],
   "source": [
    "x_train, x_test, y_train, y_test = train_test_split(\n",
    "    united_raw.clean_friend,\n",
    "    united_raw.label,\n",
    "    test_size=0.1,\n",
    "    random_state=42\n",
    ")\n",
    "x_val, y_val = val_raw.clean_friend, val_raw.label"
   ],
   "metadata": {
    "collapsed": false,
    "pycharm": {
     "name": "#%%\n"
    }
   }
  },
  {
   "cell_type": "code",
   "execution_count": 199,
   "outputs": [
    {
     "data": {
      "text/plain": "Pipeline(steps=[('tfidf', TfidfVectorizer()),\n                ('sgd_clf', SGDClassifier(random_state=42))])"
     },
     "execution_count": 199,
     "metadata": {},
     "output_type": "execute_result"
    }
   ],
   "source": [
    "sgd_ppl_clf = Pipeline([\n",
    "    ('tfidf', TfidfVectorizer()),\n",
    "    ('sgd_clf', SGDClassifier(random_state=42))])\n",
    "sgd_ppl_clf.fit(x_train, y_train)"
   ],
   "metadata": {
    "collapsed": false,
    "pycharm": {
     "name": "#%%\n"
    }
   }
  },
  {
   "cell_type": "code",
   "execution_count": 201,
   "outputs": [
    {
     "name": "stdout",
     "output_type": "stream",
     "text": [
      "              precision    recall  f1-score   support\n",
      "\n",
      "       ДЖОУИ       0.38      0.28      0.32       538\n",
      "      МОНИКА       0.25      0.26      0.25       388\n",
      "      РЕЙЧЕЛ       0.26      0.28      0.27       417\n",
      "        РОСС       0.34      0.30      0.32       486\n",
      "        ФИБИ       0.23      0.27      0.25       324\n",
      "     ЧЕНДЛЕР       0.19      0.24      0.21       347\n",
      "\n",
      "    accuracy                           0.28      2500\n",
      "   macro avg       0.28      0.27      0.27      2500\n",
      "weighted avg       0.29      0.28      0.28      2500\n",
      "\n"
     ]
    }
   ],
   "source": [
    "predicted_sgd = sgd_ppl_clf.predict(x_test)\n",
    "print(metrics.classification_report(predicted_sgd, y_test))"
   ],
   "metadata": {
    "collapsed": false,
    "pycharm": {
     "name": "#%%\n"
    }
   }
  },
  {
   "cell_type": "code",
   "execution_count": 205,
   "outputs": [],
   "source": [
    "X_test = pd.read_csv('data/test.csv')\n",
    "X_test[\"clean_friend\"] = X_test.friend_response.map(lambda s: preprocess(s))"
   ],
   "metadata": {
    "collapsed": false,
    "pycharm": {
     "name": "#%%\n"
    }
   }
  },
  {
   "cell_type": "code",
   "execution_count": 207,
   "outputs": [
    {
     "name": "stdout",
     "output_type": "stream",
     "text": [
      "Wall time: 47 ms\n"
     ]
    }
   ],
   "source": [
    "%%time\n",
    "result = sgd_ppl_clf.predict(X_test.clean_friend)\n",
    "\n",
    "res_df = pd.DataFrame(result.T)\n",
    "res_df.columns = [\"Category\"]\n",
    "res_df.to_csv(\"submission.csv\", index_label=\"Id\")"
   ],
   "metadata": {
    "collapsed": false,
    "pycharm": {
     "name": "#%%\n"
    }
   }
  }
 ],
 "metadata": {
  "kernelspec": {
   "display_name": "Python 3",
   "language": "python",
   "name": "python3"
  },
  "language_info": {
   "codemirror_mode": {
    "name": "ipython",
    "version": 2
   },
   "file_extension": ".py",
   "mimetype": "text/x-python",
   "name": "python",
   "nbconvert_exporter": "python",
   "pygments_lexer": "ipython2",
   "version": "2.7.6"
  }
 },
 "nbformat": 4,
 "nbformat_minor": 0
}