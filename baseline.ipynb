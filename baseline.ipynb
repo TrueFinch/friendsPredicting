{
 "cells": [
  {
   "cell_type": "code",
   "execution_count": 2,
   "metadata": {
    "collapsed": true
   },
   "outputs": [],
   "source": [
    "import pandas as pd\n",
    "import numpy as np\n",
    "import sklearn as skl\n",
    "from sklearn.pipeline import Pipeline\n",
    "from sklearn.feature_extraction.text import TfidfVectorizer, CountVectorizer\n",
    "from sklearn.linear_model import SGDClassifier, LogisticRegression, LogisticRegressionCV\n",
    "from sklearn.neighbors import KNeighborsClassifier\n",
    "from sklearn import metrics\n",
    "from sklearn.model_selection import GridSearchCV\n",
    "from sklearn.model_selection import train_test_split\n",
    "from sklearn.preprocessing import LabelEncoder\n",
    "import nltk\n",
    "import re\n",
    "from nltk.tokenize import RegexpTokenizer\n",
    "from nltk.stem.snowball import SnowballStemmer\n",
    "from nltk.corpus import stopwords"
   ]
  },
  {
   "cell_type": "code",
   "execution_count": 3,
   "outputs": [],
   "source": [
    "clean = pd.read_csv(\"data/clean.csv\")"
   ],
   "metadata": {
    "collapsed": false,
    "pycharm": {
     "name": "#%%\n"
    }
   }
  },
  {
   "cell_type": "code",
   "execution_count": 4,
   "outputs": [],
   "source": [
    "x_train, x_test, y_train, y_test = train_test_split(\n",
    "    clean.friend,\n",
    "    clean.label,\n",
    "    test_size=0.2,\n",
    "    random_state=42,\n",
    "    shuffle=True\n",
    ")\n",
    "# x_val, y_val = val_raw.clean_friend, val_raw.label"
   ],
   "metadata": {
    "collapsed": false,
    "pycharm": {
     "name": "#%%\n"
    }
   }
  },
  {
   "cell_type": "code",
   "execution_count": 5,
   "outputs": [],
   "source": [
    "sgd_ppl_clf = Pipeline([\n",
    "    ('tfidf', TfidfVectorizer()),\n",
    "    # ('sgd_clf', SGDClassifier(random_state=42))\n",
    "    ('clf', LogisticRegression())\n",
    "])\n",
    "# sgd_ppl_clf.fit(x_train, y_train)"
   ],
   "metadata": {
    "collapsed": false,
    "pycharm": {
     "name": "#%%\n"
    }
   }
  },
  {
   "cell_type": "code",
   "execution_count": 39,
   "outputs": [
    {
     "name": "stdout",
     "output_type": "stream",
     "text": [
      "Performing grid search...\n",
      "pipeline: ['tfidf', 'clf']\n",
      "parameters:\n",
      "{'tfidf__norm': ['l2'], 'clf__max_iter': (125, 250, 300), 'clf__random_state': (0, 1, 2), 'clf__C': (0.5, 0.55, 0.625), 'clf__penalty': ['l2']}\n",
      "Fitting 5 folds for each of 27 candidates, totalling 135 fits\n",
      "done in 169.602s\n",
      "\n",
      "Best score: 0.258\n",
      "Best parameters set:\n",
      "\tclf__C: 0.55\n",
      "\tclf__max_iter: 250\n",
      "\tclf__penalty: 'l2'\n",
      "\tclf__random_state: 0\n",
      "\ttfidf__norm: 'l2'\n",
      "Wall time: 2min 49s\n"
     ]
    }
   ],
   "source": [
    "%%time\n",
    "from time import time\n",
    "\n",
    "parameters = {\n",
    "    # \"vect__max_df\": (0.5, 1.0),\n",
    "    # # 'vect__max_features': (None, 5000, 10000, 50000),\n",
    "    # \"vect__ngram_range\": ((1, 1), (1, 2)),  # unigrams or bigrams\n",
    "    # 'tfidf__use_idf': (True, False),\n",
    "    'tfidf__norm': ['l2'],\n",
    "    \"clf__max_iter\": (125, 250, 300),\n",
    "    \"clf__random_state\": (0, 1, 2),\n",
    "    # \"clf__alpha\": (0.00001, 0.000001),\n",
    "    \"clf__C\": (0.5, 0.55, 0.625),\n",
    "    \"clf__penalty\": [\"l2\"],\n",
    "    # 'clf__max_iter': (10, 50, 80),\n",
    "}\n",
    "grid_search = GridSearchCV(sgd_ppl_clf, parameters, n_jobs=-1, verbose=1)\n",
    "print(\"Performing grid search...\")\n",
    "print(\"pipeline:\", [name for name, _ in sgd_ppl_clf.steps])\n",
    "print(\"parameters:\")\n",
    "print(parameters)\n",
    "t0 = time()\n",
    "grid_search.fit(x_train, y_train)\n",
    "print(\"done in %0.3fs\" % (time() - t0))\n",
    "print()\n",
    "\n",
    "print(\"Best score: %0.3f\" % grid_search.best_score_)\n",
    "print(\"Best parameters set:\")\n",
    "best_parameters = grid_search.best_estimator_.get_params()\n",
    "for param_name in sorted(parameters.keys()):\n",
    "    print(\"\\t%s: %r\" % (param_name, best_parameters[param_name]))"
   ],
   "metadata": {
    "collapsed": false,
    "pycharm": {
     "name": "#%%\n"
    }
   }
  },
  {
   "cell_type": "code",
   "execution_count": 7,
   "outputs": [
    {
     "name": "stdout",
     "output_type": "stream",
     "text": [
      "              precision    recall  f1-score   support\n",
      "\n",
      "       ДЖОУИ       0.29      0.30      0.30       887\n",
      "      МОНИКА       0.22      0.26      0.24       743\n",
      "      РЕЙЧЕЛ       0.32      0.29      0.30      1099\n",
      "        РОСС       0.29      0.24      0.26      1139\n",
      "        ФИБИ       0.21      0.27      0.24       655\n",
      "     ЧЕНДЛЕР       0.28      0.25      0.27      1031\n",
      "\n",
      "    accuracy                           0.27      5554\n",
      "   macro avg       0.27      0.27      0.27      5554\n",
      "weighted avg       0.27      0.27      0.27      5554\n",
      "\n",
      "Wall time: 4.9 s\n"
     ]
    }
   ],
   "source": [
    "%%time\n",
    "sgd_ppl_clf = Pipeline([\n",
    "    ('tfidf', TfidfVectorizer(norm='l2')),\n",
    "    ('clf', LogisticRegression(C=0.55, max_iter=250, penalty='l2', random_state=0))\n",
    "])\n",
    "sgd_ppl_clf.fit(x_train, y_train)\n",
    "\n",
    "predicted_sgd = sgd_ppl_clf.predict(x_test)\n",
    "print(metrics.classification_report(predicted_sgd, y_test))"
   ],
   "metadata": {
    "collapsed": false,
    "pycharm": {
     "name": "#%%\n"
    }
   }
  },
  {
   "cell_type": "code",
   "execution_count": 9,
   "outputs": [
    {
     "name": "stdout",
     "output_type": "stream",
     "text": [
      "Wall time: 33 ms\n"
     ]
    }
   ],
   "source": [
    "%%time\n",
    "X_test = pd.read_csv('data/test_clean.csv')\n",
    "# X_test[\"clean_friend\"] = X_test.friend_response.map(lambda s: preprocess(s))"
   ],
   "metadata": {
    "collapsed": false,
    "pycharm": {
     "name": "#%%\n"
    }
   }
  },
  {
   "cell_type": "code",
   "execution_count": 10,
   "outputs": [
    {
     "name": "stdout",
     "output_type": "stream",
     "text": [
      "Wall time: 61 ms\n"
     ]
    }
   ],
   "source": [
    "%%time\n",
    "result = sgd_ppl_clf.predict(X_test.clean_friend)\n",
    "\n",
    "res_df = pd.DataFrame(result.T)\n",
    "res_df.columns = [\"Category\"]\n",
    "res_df.to_csv(\"submission.csv\", index_label=\"Id\")"
   ],
   "metadata": {
    "collapsed": false,
    "pycharm": {
     "name": "#%%\n"
    }
   }
  }
 ],
 "metadata": {
  "kernelspec": {
   "display_name": "Python 3",
   "language": "python",
   "name": "python3"
  },
  "language_info": {
   "codemirror_mode": {
    "name": "ipython",
    "version": 2
   },
   "file_extension": ".py",
   "mimetype": "text/x-python",
   "name": "python",
   "nbconvert_exporter": "python",
   "pygments_lexer": "ipython2",
   "version": "2.7.6"
  }
 },
 "nbformat": 4,
 "nbformat_minor": 0
}